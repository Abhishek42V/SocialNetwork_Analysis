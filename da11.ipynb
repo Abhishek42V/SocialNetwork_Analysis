{
 "cells": [
  {
   "cell_type": "code",
   "execution_count": 14,
   "metadata": {},
   "outputs": [],
   "source": [
    "#Importing the necessary libraries\n",
    "import networkx as nx\n",
    "import matplotlib.pyplot as plt\n",
    "import pandas as pd\n",
    "import numpy as np\n",
    "import random"
   ]
  },
  {
   "cell_type": "code",
   "execution_count": 16,
   "metadata": {},
   "outputs": [
    {
     "name": "stdout",
     "output_type": "stream",
     "text": [
      "Loaded road network with 265214 nodes and 420045 edges.\n"
     ]
    }
   ],
   "source": [
    "def load_email_network(file_path):\n",
    "    \"\"\"Loads the email network from a text file into a NetworkX graph.\"\"\"\n",
    "    graph = nx.DiGraph()  # Undirected graph since roads are bidirectional\n",
    "\n",
    "    with open(file_path, \"r\") as file:\n",
    "        for line in file:\n",
    "            if line.startswith(\"#\"):  # Skip comment lines\n",
    "                continue\n",
    "            from_node, to_node = map(int, line.split())  # Extract node IDs\n",
    "            graph.add_edge(from_node, to_node)  # Add edge to the graph\n",
    "\n",
    "    return graph\n",
    "\n",
    "# Example usage,en->emailnetwork\n",
    "file_path = \"Email-EuAll.txt\" \n",
    "en = load_email_network(file_path)\n",
    "\n",
    "# Print basic statistics\n",
    "print(f\"Loaded road network with {en.number_of_nodes()} nodes and {en.number_of_edges()} edges.\")\n"
   ]
  },
  {
   "cell_type": "code",
   "execution_count": 17,
   "metadata": {},
   "outputs": [
    {
     "name": "stdout",
     "output_type": "stream",
     "text": [
      "Sampled Graph: 2652 nodes, 49 edges\n"
     ]
    }
   ],
   "source": [
    "def sample_nodes_induced_subgraph(G, node_percentage):\n",
    "    \"\"\"Randomly samples a percentage of nodes and retains only edges between them.\"\"\"\n",
    "    sampled_nodes = set(random.sample(list(G.nodes()), int(len(G) * node_percentage)))\n",
    "    sampled_G = G.subgraph(sampled_nodes).copy()  # subgraph only has edges for which nodes belong to sampled_nodes\n",
    "    return sampled_G\n",
    "\n",
    "# Sample nodes and retain edges(with 1% nodes)\n",
    "sg = sample_nodes_induced_subgraph(en, node_percentage=0.01)\n",
    "\n",
    "print(f\"Sampled Graph: {sg.number_of_nodes()} nodes, {sg.number_of_edges()} edges\")\n"
   ]
  },
  {
   "cell_type": "code",
   "execution_count": null,
   "metadata": {},
   "outputs": [],
   "source": [
    "#1% of the total size of nodes\n",
    "plt.figure(figsize=(200,200))\n",
    "plt.title(\"Visualization of the graph,size(200,200)\")\n",
    "nx.draw(sg,with_labels=True,node_color='red',edge_color='black',node_size=800)\n",
    "plt.show()"
   ]
  },
  {
   "cell_type": "code",
   "execution_count": 18,
   "metadata": {},
   "outputs": [],
   "source": [
    "#Exporting the nodes,edges to respective csv for visualization in gephi\n",
    "def export_graph_to_csv(G, nodes_file=\"ENnodes.csv\", edges_file=\"ENedges.csv\"):\n",
    "    \"\"\"Exports a NetworkX graph to two CSV files for Gephi: one for nodes and one for edges.\"\"\"\n",
    "    \n",
    "    # Export Nodes\n",
    "    nodes_df = pd.DataFrame({\"Id\": list(G.nodes())})\n",
    "    nodes_df.to_csv(nodes_file, index=False)\n",
    "    \n",
    "    # Export Edges\n",
    "    edges_df = pd.DataFrame(G.edges(), columns=[\"Source\", \"Target\"])\n",
    "    edges_df.to_csv(edges_file, index=False)\n",
    "\n",
    "# Example Usage\n",
    "export_graph_to_csv(sg)  # Exports sampled graph to CSV\n"
   ]
  },
  {
   "cell_type": "markdown",
   "metadata": {},
   "source": [
    "# Complete Network Statistics"
   ]
  },
  {
   "cell_type": "code",
   "execution_count": 23,
   "metadata": {},
   "outputs": [
    {
     "name": "stdout",
     "output_type": "stream",
     "text": [
      "The average degree of the graph is 3.1675929626451564\n"
     ]
    }
   ],
   "source": [
    "#Average degree of the graph\n",
    "avg_degree=0\n",
    "len(en.degree)\n",
    "for node,degree in dict(en.degree()).items():\n",
    "    avg_degree+=degree/len(en.degree)\n",
    "\n",
    "print(f'The average degree of the graph is {avg_degree}')"
   ]
  },
  {
   "cell_type": "code",
   "execution_count": 24,
   "metadata": {},
   "outputs": [
    {
     "name": "stdout",
     "output_type": "stream",
     "text": [
      "The density of the given graph is 1.1943581056223159e-05\n"
     ]
    }
   ],
   "source": [
    "#Density of a graph\n",
    "max_edges=len(en.nodes)*(len(en.nodes)-1)/2\n",
    "density=len(en.edges)/max_edges\n",
    "print(f'The density of the given graph is {density}')"
   ]
  },
  {
   "cell_type": "code",
   "execution_count": 30,
   "metadata": {},
   "outputs": [
    {
     "ename": "NetworkXError",
     "evalue": "Found infinite path length because the digraph is not strongly connected",
     "output_type": "error",
     "traceback": [
      "\u001b[1;31m---------------------------------------------------------------------------\u001b[0m",
      "\u001b[1;31mNetworkXError\u001b[0m                             Traceback (most recent call last)",
      "Cell \u001b[1;32mIn[30], line 2\u001b[0m\n\u001b[0;32m      1\u001b[0m \u001b[38;5;66;03m#9.\tFind diameter, radius, and eccentricity of Graph.\u001b[39;00m\n\u001b[1;32m----> 2\u001b[0m eccentricity\u001b[38;5;241m=\u001b[39m\u001b[43mnx\u001b[49m\u001b[38;5;241;43m.\u001b[39;49m\u001b[43meccentricity\u001b[49m\u001b[43m(\u001b[49m\u001b[43men\u001b[49m\u001b[43m)\u001b[49m\n\u001b[0;32m      3\u001b[0m radius\u001b[38;5;241m=\u001b[39mnx\u001b[38;5;241m.\u001b[39mradius(en)\n\u001b[0;32m      4\u001b[0m diameter\u001b[38;5;241m=\u001b[39mnx\u001b[38;5;241m.\u001b[39mdiameter(en)\n",
      "File \u001b[1;32m<class 'networkx.utils.decorators.argmap'> compilation 16:3\u001b[0m, in \u001b[0;36margmap_eccentricity_13\u001b[1;34m(G, v, sp, weight, backend, **backend_kwargs)\u001b[0m\n\u001b[0;32m      1\u001b[0m \u001b[38;5;28;01mimport\u001b[39;00m \u001b[38;5;21;01mbz2\u001b[39;00m\n\u001b[0;32m      2\u001b[0m \u001b[38;5;28;01mimport\u001b[39;00m \u001b[38;5;21;01mcollections\u001b[39;00m\n\u001b[1;32m----> 3\u001b[0m \u001b[38;5;28;01mimport\u001b[39;00m \u001b[38;5;21;01mgzip\u001b[39;00m\n\u001b[0;32m      4\u001b[0m \u001b[38;5;28;01mimport\u001b[39;00m \u001b[38;5;21;01minspect\u001b[39;00m\n\u001b[0;32m      5\u001b[0m \u001b[38;5;28;01mimport\u001b[39;00m \u001b[38;5;21;01mitertools\u001b[39;00m\n",
      "File \u001b[1;32mC:\\tools\\Manim\\Lib\\site-packages\\networkx\\utils\\backends.py:633\u001b[0m, in \u001b[0;36m_dispatchable.__call__\u001b[1;34m(self, backend, *args, **kwargs)\u001b[0m\n\u001b[0;32m    628\u001b[0m \u001b[38;5;250m\u001b[39m\u001b[38;5;124;03m\"\"\"Returns the result of the original function, or the backend function if\u001b[39;00m\n\u001b[0;32m    629\u001b[0m \u001b[38;5;124;03mthe backend is specified and that backend implements `func`.\"\"\"\u001b[39;00m\n\u001b[0;32m    631\u001b[0m \u001b[38;5;28;01mif\u001b[39;00m \u001b[38;5;129;01mnot\u001b[39;00m backends:\n\u001b[0;32m    632\u001b[0m     \u001b[38;5;66;03m# Fast path if no backends are installed\u001b[39;00m\n\u001b[1;32m--> 633\u001b[0m     \u001b[38;5;28;01mreturn\u001b[39;00m \u001b[38;5;28;43mself\u001b[39;49m\u001b[38;5;241;43m.\u001b[39;49m\u001b[43morig_func\u001b[49m\u001b[43m(\u001b[49m\u001b[38;5;241;43m*\u001b[39;49m\u001b[43margs\u001b[49m\u001b[43m,\u001b[49m\u001b[43m \u001b[49m\u001b[38;5;241;43m*\u001b[39;49m\u001b[38;5;241;43m*\u001b[39;49m\u001b[43mkwargs\u001b[49m\u001b[43m)\u001b[49m\n\u001b[0;32m    635\u001b[0m \u001b[38;5;66;03m# Use `backend_name` in this function instead of `backend`\u001b[39;00m\n\u001b[0;32m    636\u001b[0m backend_name \u001b[38;5;241m=\u001b[39m backend\n",
      "File \u001b[1;32mC:\\tools\\Manim\\Lib\\site-packages\\networkx\\algorithms\\distance_measures.py:320\u001b[0m, in \u001b[0;36meccentricity\u001b[1;34m(G, v, sp, weight)\u001b[0m\n\u001b[0;32m    318\u001b[0m         \u001b[38;5;28;01melse\u001b[39;00m:\n\u001b[0;32m    319\u001b[0m             msg \u001b[38;5;241m=\u001b[39m \u001b[38;5;124m\"\u001b[39m\u001b[38;5;124mFound infinite path length because the graph is not\u001b[39m\u001b[38;5;124m\"\u001b[39m \u001b[38;5;124m\"\u001b[39m\u001b[38;5;124m connected\u001b[39m\u001b[38;5;124m\"\u001b[39m\n\u001b[1;32m--> 320\u001b[0m         \u001b[38;5;28;01mraise\u001b[39;00m nx\u001b[38;5;241m.\u001b[39mNetworkXError(msg)\n\u001b[0;32m    322\u001b[0m     e[n] \u001b[38;5;241m=\u001b[39m \u001b[38;5;28mmax\u001b[39m(length\u001b[38;5;241m.\u001b[39mvalues())\n\u001b[0;32m    324\u001b[0m \u001b[38;5;28;01mif\u001b[39;00m v \u001b[38;5;129;01min\u001b[39;00m G:\n",
      "\u001b[1;31mNetworkXError\u001b[0m: Found infinite path length because the digraph is not strongly connected"
     ]
    }
   ],
   "source": [
    "#Find diameter, radius, and eccentricity of Graph.\n",
    "eccentricity=nx.eccentricity(en)\n",
    "radius=nx.radius(en)\n",
    "diameter=nx.diameter(en)\n",
    "print(f'The eccentricity of the given graph is {eccentricity}')\n",
    "print(f'The radius of the given graph is {radius}')\n",
    "print(f'The diameter of the given graph is {diameter}')"
   ]
  },
  {
   "cell_type": "markdown",
   "metadata": {},
   "source": [
    "Given that the diameter appears to infinite, it appears that there are nodes which have no edges to them."
   ]
  },
  {
   "cell_type": "code",
   "execution_count": 31,
   "metadata": {},
   "outputs": [
    {
     "name": "stdout",
     "output_type": "stream",
     "text": [
      "179170:7636\n",
      "422:6436\n",
      "30:6145\n",
      "72:4314\n",
      "298:4106\n",
      "83:3626\n",
      "485:3211\n",
      "366:2801\n",
      "192:2360\n",
      "406:2142\n"
     ]
    }
   ],
   "source": [
    "#Top 10 nodes by degree\n",
    "degree_dict=dict(en.degree())\n",
    "sorted_list=sorted(degree_dict.items(),key=lambda item:item[1],reverse=True)\n",
    "sorted_dict=dict(sorted_list)\n",
    "for i,(key,value) in enumerate(sorted_dict.items()):\n",
    "    if(i>=10):\n",
    "        break\n",
    "    print(f'{key}:{value}')"
   ]
  },
  {
   "cell_type": "code",
   "execution_count": 37,
   "metadata": {},
   "outputs": [
    {
     "name": "stdout",
     "output_type": "stream",
     "text": [
      "Global Clustering Coefficient: 0.02784941685410377\n"
     ]
    }
   ],
   "source": [
    "# Global Clustering Coefficient\n",
    "global_clustering = nx.transitivity(en)\n",
    "print(f'Global Clustering Coefficient: {global_clustering}')"
   ]
  },
  {
   "cell_type": "code",
   "execution_count": 40,
   "metadata": {},
   "outputs": [
    {
     "name": "stdout",
     "output_type": "stream",
     "text": [
      "0.02879195212904345\n",
      "The degree centralizaiton for the given network is -1.1835108688564075e-05\n"
     ]
    }
   ],
   "source": [
    "#Degree centralization\n",
    "centrality=nx.degree_centrality(en)\n",
    "num_nodes=len(en.nodes())\n",
    "num_edges=len(en.edges())\n",
    "maxval=max(value for _,value in centrality.items()) #max centrality\n",
    "print(maxval)\n",
    "p_sum=0\n",
    "for _,degree in en.degree():\n",
    "    p_sum+=(maxval-degree)\n",
    "\n",
    "degree_centralization=p_sum/((num_nodes-1)*(num_nodes-2))\n",
    "print(f'The degree centralizaiton for the given network is {degree_centralization}')"
   ]
  },
  {
   "cell_type": "markdown",
   "metadata": {},
   "source": [
    "# Sampled Network(Random choice of nodes, 1% of the total)"
   ]
  },
  {
   "cell_type": "code",
   "execution_count": 32,
   "metadata": {},
   "outputs": [
    {
     "name": "stdout",
     "output_type": "stream",
     "text": [
      "The average degree of the graph is 0.036953242835595757\n"
     ]
    }
   ],
   "source": [
    "#Average degree of the graph\n",
    "avg_degree=0\n",
    "len(sg.degree)\n",
    "for node,degree in dict(sg.degree()).items():\n",
    "    avg_degree+=degree/len(sg.degree)\n",
    "\n",
    "print(f'The average degree of the graph is {avg_degree}')"
   ]
  },
  {
   "cell_type": "code",
   "execution_count": 33,
   "metadata": {},
   "outputs": [
    {
     "name": "stdout",
     "output_type": "stream",
     "text": [
      "The density of the given graph is 1.3939359802186261e-05\n"
     ]
    }
   ],
   "source": [
    "#Density of a graph\n",
    "max_edges=len(sg.nodes)*(len(sg.nodes)-1)/2\n",
    "density=len(sg.edges)/max_edges\n",
    "print(f'The density of the given graph is {density}')"
   ]
  },
  {
   "cell_type": "code",
   "execution_count": 34,
   "metadata": {},
   "outputs": [
    {
     "ename": "NetworkXError",
     "evalue": "Found infinite path length because the digraph is not strongly connected",
     "output_type": "error",
     "traceback": [
      "\u001b[1;31m---------------------------------------------------------------------------\u001b[0m",
      "\u001b[1;31mNetworkXError\u001b[0m                             Traceback (most recent call last)",
      "Cell \u001b[1;32mIn[34], line 2\u001b[0m\n\u001b[0;32m      1\u001b[0m \u001b[38;5;66;03m#9.\tFind diameter, radius, and eccentricity of Graph.\u001b[39;00m\n\u001b[1;32m----> 2\u001b[0m eccentricity\u001b[38;5;241m=\u001b[39m\u001b[43mnx\u001b[49m\u001b[38;5;241;43m.\u001b[39;49m\u001b[43meccentricity\u001b[49m\u001b[43m(\u001b[49m\u001b[43msg\u001b[49m\u001b[43m)\u001b[49m\n\u001b[0;32m      3\u001b[0m radius\u001b[38;5;241m=\u001b[39mnx\u001b[38;5;241m.\u001b[39mradius(sg)\n\u001b[0;32m      4\u001b[0m diameter\u001b[38;5;241m=\u001b[39mnx\u001b[38;5;241m.\u001b[39mdiameter(sg)\n",
      "File \u001b[1;32m<class 'networkx.utils.decorators.argmap'> compilation 16:3\u001b[0m, in \u001b[0;36margmap_eccentricity_13\u001b[1;34m(G, v, sp, weight, backend, **backend_kwargs)\u001b[0m\n\u001b[0;32m      1\u001b[0m \u001b[38;5;28;01mimport\u001b[39;00m \u001b[38;5;21;01mbz2\u001b[39;00m\n\u001b[0;32m      2\u001b[0m \u001b[38;5;28;01mimport\u001b[39;00m \u001b[38;5;21;01mcollections\u001b[39;00m\n\u001b[1;32m----> 3\u001b[0m \u001b[38;5;28;01mimport\u001b[39;00m \u001b[38;5;21;01mgzip\u001b[39;00m\n\u001b[0;32m      4\u001b[0m \u001b[38;5;28;01mimport\u001b[39;00m \u001b[38;5;21;01minspect\u001b[39;00m\n\u001b[0;32m      5\u001b[0m \u001b[38;5;28;01mimport\u001b[39;00m \u001b[38;5;21;01mitertools\u001b[39;00m\n",
      "File \u001b[1;32mC:\\tools\\Manim\\Lib\\site-packages\\networkx\\utils\\backends.py:633\u001b[0m, in \u001b[0;36m_dispatchable.__call__\u001b[1;34m(self, backend, *args, **kwargs)\u001b[0m\n\u001b[0;32m    628\u001b[0m \u001b[38;5;250m\u001b[39m\u001b[38;5;124;03m\"\"\"Returns the result of the original function, or the backend function if\u001b[39;00m\n\u001b[0;32m    629\u001b[0m \u001b[38;5;124;03mthe backend is specified and that backend implements `func`.\"\"\"\u001b[39;00m\n\u001b[0;32m    631\u001b[0m \u001b[38;5;28;01mif\u001b[39;00m \u001b[38;5;129;01mnot\u001b[39;00m backends:\n\u001b[0;32m    632\u001b[0m     \u001b[38;5;66;03m# Fast path if no backends are installed\u001b[39;00m\n\u001b[1;32m--> 633\u001b[0m     \u001b[38;5;28;01mreturn\u001b[39;00m \u001b[38;5;28;43mself\u001b[39;49m\u001b[38;5;241;43m.\u001b[39;49m\u001b[43morig_func\u001b[49m\u001b[43m(\u001b[49m\u001b[38;5;241;43m*\u001b[39;49m\u001b[43margs\u001b[49m\u001b[43m,\u001b[49m\u001b[43m \u001b[49m\u001b[38;5;241;43m*\u001b[39;49m\u001b[38;5;241;43m*\u001b[39;49m\u001b[43mkwargs\u001b[49m\u001b[43m)\u001b[49m\n\u001b[0;32m    635\u001b[0m \u001b[38;5;66;03m# Use `backend_name` in this function instead of `backend`\u001b[39;00m\n\u001b[0;32m    636\u001b[0m backend_name \u001b[38;5;241m=\u001b[39m backend\n",
      "File \u001b[1;32mC:\\tools\\Manim\\Lib\\site-packages\\networkx\\algorithms\\distance_measures.py:320\u001b[0m, in \u001b[0;36meccentricity\u001b[1;34m(G, v, sp, weight)\u001b[0m\n\u001b[0;32m    318\u001b[0m         \u001b[38;5;28;01melse\u001b[39;00m:\n\u001b[0;32m    319\u001b[0m             msg \u001b[38;5;241m=\u001b[39m \u001b[38;5;124m\"\u001b[39m\u001b[38;5;124mFound infinite path length because the graph is not\u001b[39m\u001b[38;5;124m\"\u001b[39m \u001b[38;5;124m\"\u001b[39m\u001b[38;5;124m connected\u001b[39m\u001b[38;5;124m\"\u001b[39m\n\u001b[1;32m--> 320\u001b[0m         \u001b[38;5;28;01mraise\u001b[39;00m nx\u001b[38;5;241m.\u001b[39mNetworkXError(msg)\n\u001b[0;32m    322\u001b[0m     e[n] \u001b[38;5;241m=\u001b[39m \u001b[38;5;28mmax\u001b[39m(length\u001b[38;5;241m.\u001b[39mvalues())\n\u001b[0;32m    324\u001b[0m \u001b[38;5;28;01mif\u001b[39;00m v \u001b[38;5;129;01min\u001b[39;00m G:\n",
      "\u001b[1;31mNetworkXError\u001b[0m: Found infinite path length because the digraph is not strongly connected"
     ]
    }
   ],
   "source": [
    "#Find diameter, radius, and eccentricity of Graph.\n",
    "eccentricity=nx.eccentricity(sg)\n",
    "radius=nx.radius(sg)\n",
    "diameter=nx.diameter(sg)\n",
    "print(f'The eccentricity of the given graph is {eccentricity}')\n",
    "print(f'The radius of the given graph is {radius}')\n",
    "print(f'The diameter of the given graph is {diameter}')"
   ]
  },
  {
   "cell_type": "code",
   "execution_count": 39,
   "metadata": {},
   "outputs": [
    {
     "name": "stdout",
     "output_type": "stream",
     "text": [
      "107:11\n",
      "364:8\n",
      "92476:8\n",
      "4237:7\n",
      "189839:4\n",
      "26:3\n",
      "20494:3\n",
      "90281:2\n",
      "16614:2\n",
      "743:2\n"
     ]
    }
   ],
   "source": [
    "#Top 10 nodes by degree\n",
    "degree_dict=dict(sg.degree())\n",
    "sorted_list=sorted(degree_dict.items(),key=lambda item:item[1],reverse=True)\n",
    "sorted_dict=dict(sorted_list)\n",
    "for i,(key,value) in enumerate(sorted_dict.items()):\n",
    "    if(i>=10):\n",
    "        break\n",
    "    print(f'{key}:{value}')"
   ]
  },
  {
   "cell_type": "code",
   "execution_count": 38,
   "metadata": {},
   "outputs": [
    {
     "name": "stdout",
     "output_type": "stream",
     "text": [
      "Global Clustering Coefficient: 0\n"
     ]
    }
   ],
   "source": [
    "# Global Clustering Coefficient\n",
    "global_clustering = nx.transitivity(sg)\n",
    "print(f'Global Clustering Coefficient: {global_clustering}')"
   ]
  }
 ],
 "metadata": {
  "kernelspec": {
   "display_name": "Python 3",
   "language": "python",
   "name": "python3"
  },
  "language_info": {
   "codemirror_mode": {
    "name": "ipython",
    "version": 3
   },
   "file_extension": ".py",
   "mimetype": "text/x-python",
   "name": "python",
   "nbconvert_exporter": "python",
   "pygments_lexer": "ipython3",
   "version": "3.11.9"
  }
 },
 "nbformat": 4,
 "nbformat_minor": 2
}
